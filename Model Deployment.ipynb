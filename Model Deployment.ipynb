{
 "cells": [
  {
   "cell_type": "code",
   "execution_count": 22,
   "id": "27b9031a",
   "metadata": {},
   "outputs": [],
   "source": [
    "import streamlit as st"
   ]
  },
  {
   "cell_type": "code",
   "execution_count": 28,
   "id": "ca153697",
   "metadata": {},
   "outputs": [
    {
     "name": "stdout",
     "output_type": "stream",
     "text": [
      "Overwriting app.py\n"
     ]
    }
   ],
   "source": [
    "%%writefile app.py\n",
    "import pandas as pd \n",
    "import numpy as np \n",
    "import streamlit as st\n",
    "import joblib\n",
    "\n",
    "\n",
    "Model = joblib.load('Model.h5')\n",
    "\n",
    "\n",
    "def Predict(Gender, AGE, Urea, Cr, HbA1c, Chol, TG, HDL, LDL,VLDL, BMI):\n",
    "    \n",
    "    \n",
    "    test = pd.DataFrame(data=[ [Gender, AGE, Urea, Cr, HbA1c, Chol, TG, HDL, LDL,VLDL, BMI] ] , \n",
    "                       columns=['Gender', 'AGE', 'Urea', 'Cr', 'HbA1c', 'Chol', 'TG', 'HDL', 'LDL','VLDL', 'BMI'])\n",
    "    \n",
    "    return Model.predict(test)\n",
    "\n",
    "\n",
    "\n",
    "def main():\n",
    "    \n",
    "    Gender = st.selectbox(f'Select your Gender ', ['F' , 'M'])\n",
    "    \n",
    "    AGE = st.slider(f'Select your AGE ', min_value = 20.0, max_value = 80.0, step = 1.0 ,  )\n",
    "    \n",
    "    Urea = st.slider(f'Select your Urea ', min_value = 0.5, max_value = 39.0, step = 0.1)\n",
    "    \n",
    "    Cr = st.slider(f'Select your Cr ', min_value = 0.06, max_value = 8.0, step = 0.1 )\n",
    "    \n",
    "    HbA1c = st.slider(f'Select your HbA1c ', min_value = 0.9, max_value = 16.0, step = 1.0)\n",
    "    \n",
    "    Chol = st.slider(f'Select your Chol ', min_value = 0.0, max_value = 11.0, step = 1.0)\n",
    "    \n",
    "    TG = st.slider(f'Select your TG ', min_value = 0.3, max_value = 14.0, step = 0.1 , value = 10.0)\n",
    "    \n",
    "    HDL = st.slider(f'Select your HDL ', min_value = 0.2, max_value = 10.0, step = 0.1)\n",
    "    \n",
    "    LDL = st.slider(f'Select your LDL ', min_value = 0.3, max_value = 10.0, step = 0.1)\n",
    "    \n",
    "    VLDL = st.slider(f'Select your VLDL ', min_value = 0.1, max_value = 35.0, step = 1.0)\n",
    "    \n",
    "    BMI = st.slider(f'Select your BMI ', min_value = 19.0, max_value = 48.0, step = 1.0)\n",
    "    \n",
    "    if st.button('Predict'):\n",
    "        \n",
    "        ans = Predict(Gender, AGE, Urea, Cr, HbA1c, Chol, TG, HDL, LDL,VLDL, BMI)\n",
    "        st.write(ans)\n",
    "    \n",
    "        \n",
    "main()"
   ]
  },
  {
   "cell_type": "code",
   "execution_count": 29,
   "id": "60ce1c06",
   "metadata": {},
   "outputs": [
    {
     "name": "stdout",
     "output_type": "stream",
     "text": [
      "^C\n"
     ]
    }
   ],
   "source": [
    "! streamlit run app.py"
   ]
  },
  {
   "cell_type": "code",
   "execution_count": null,
   "id": "85e2c77c",
   "metadata": {},
   "outputs": [],
   "source": []
  }
 ],
 "metadata": {
  "kernelspec": {
   "display_name": "Python 3 (ipykernel)",
   "language": "python",
   "name": "python3"
  },
  "language_info": {
   "codemirror_mode": {
    "name": "ipython",
    "version": 3
   },
   "file_extension": ".py",
   "mimetype": "text/x-python",
   "name": "python",
   "nbconvert_exporter": "python",
   "pygments_lexer": "ipython3",
   "version": "3.11.5"
  }
 },
 "nbformat": 4,
 "nbformat_minor": 5
}
