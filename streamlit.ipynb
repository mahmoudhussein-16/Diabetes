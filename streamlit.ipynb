{
  "cells": [
    {
      "cell_type": "code",
      "execution_count": null,
      "id": "bfab10e4",
      "metadata": {
        "id": "bfab10e4",
        "outputId": "61d1993c-191f-4778-ccde-c23725f307b2"
      },
      "outputs": [
        {
          "name": "stdout",
          "output_type": "stream",
          "text": [
            "^C\n"
          ]
        }
      ],
      "source": [
        "import streamlit as st\n",
        "! streamlit hello"
      ]
    },
    {
      "cell_type": "markdown",
      "id": "f8981c81",
      "metadata": {
        "id": "f8981c81"
      },
      "source": [
        "## display text"
      ]
    },
    {
      "cell_type": "code",
      "execution_count": null,
      "id": "638d88d8",
      "metadata": {
        "id": "638d88d8",
        "outputId": "d031df83-987f-48bf-a783-ab6650ed254e"
      },
      "outputs": [
        {
          "name": "stdout",
          "output_type": "stream",
          "text": [
            "Writing app.py\n"
          ]
        }
      ],
      "source": [
        "%%writefile app.py\n",
        "import streamlit as st\n",
        "\n",
        "st.title('this the title')\n",
        "st.header('this is the app header')\n",
        "st.markdown('this is markdown')\n",
        "st.subheader('this is sub header')\n",
        "st.code('x = 1500')\n",
        "st.latex(r''' a + a r^1 + a r^2''')\n"
      ]
    },
    {
      "cell_type": "code",
      "execution_count": null,
      "id": "f7df35ba",
      "metadata": {
        "id": "f7df35ba",
        "outputId": "b7b02fc5-10dc-40e6-ed90-56f25de0983f"
      },
      "outputs": [
        {
          "name": "stdout",
          "output_type": "stream",
          "text": [
            "^C\n"
          ]
        }
      ],
      "source": [
        "! streamlit run app.py"
      ]
    },
    {
      "cell_type": "markdown",
      "id": "ca87b372",
      "metadata": {
        "id": "ca87b372"
      },
      "source": [
        "## text style"
      ]
    },
    {
      "cell_type": "code",
      "execution_count": null,
      "id": "f421b75b",
      "metadata": {
        "id": "f421b75b",
        "outputId": "4e5da05b-0454-49e7-dd4a-38f0da401bc5"
      },
      "outputs": [
        {
          "name": "stdout",
          "output_type": "stream",
          "text": [
            "Overwriting app1.py\n"
          ]
        }
      ],
      "source": [
        "%%writefile app1.py\n",
        "\n",
        "import streamlit as st\n",
        "\n",
        "st.markdown(\"<h1 style = 'text-align : center ; color : red ;'> this is my first app </h1>\",unsafe_allow_html = True)\n",
        "\n"
      ]
    },
    {
      "cell_type": "code",
      "execution_count": null,
      "id": "da2b6495",
      "metadata": {
        "id": "da2b6495",
        "outputId": "50541aa1-84a9-4ad8-f68d-45085db9fab6"
      },
      "outputs": [
        {
          "name": "stdout",
          "output_type": "stream",
          "text": [
            "^C\n"
          ]
        }
      ],
      "source": [
        "! streamlit run app1.py"
      ]
    },
    {
      "cell_type": "markdown",
      "id": "0b285ad3",
      "metadata": {
        "id": "0b285ad3"
      },
      "source": [
        "## display media"
      ]
    },
    {
      "cell_type": "code",
      "execution_count": null,
      "id": "98949c4a",
      "metadata": {
        "id": "98949c4a",
        "outputId": "356daacd-92f9-464e-9114-a2e00a800fb4"
      },
      "outputs": [
        {
          "name": "stdout",
          "output_type": "stream",
          "text": [
            "Writing app2.py\n"
          ]
        }
      ],
      "source": [
        "%%writefile app2.py\n",
        "import streamlit as st\n",
        "\n",
        "st.image('kid.jpg')\n",
        "#st.video('video.mp4')\n",
        "#st.audio('audio.mp3')\n"
      ]
    },
    {
      "cell_type": "code",
      "execution_count": null,
      "id": "04bb473f",
      "metadata": {
        "id": "04bb473f",
        "outputId": "a7ead771-345e-416a-fb4d-767c3439d183"
      },
      "outputs": [
        {
          "name": "stdout",
          "output_type": "stream",
          "text": [
            "^C\n"
          ]
        }
      ],
      "source": [
        "! streamlit run app2.py"
      ]
    },
    {
      "cell_type": "markdown",
      "id": "cfb5a2bb",
      "metadata": {
        "id": "cfb5a2bb"
      },
      "source": [
        "## display dataframe"
      ]
    },
    {
      "cell_type": "code",
      "execution_count": null,
      "id": "8d25e668",
      "metadata": {
        "id": "8d25e668",
        "outputId": "f4d6b4b2-b54b-44c1-8cc6-43dc63013c7e"
      },
      "outputs": [
        {
          "name": "stdout",
          "output_type": "stream",
          "text": [
            "Writing app3.py\n"
          ]
        }
      ],
      "source": [
        "%%writefile app3.py\n",
        "import streamlit as st\n",
        "import pandas as pd\n",
        "\n",
        "df = pd.DataFrame({'x':[1,2,3,4,5], 'y':[10,20,30,40,50]})\n",
        "st.dataframe(df)"
      ]
    },
    {
      "cell_type": "code",
      "execution_count": null,
      "id": "3408ed30",
      "metadata": {
        "id": "3408ed30",
        "outputId": "437b5e08-9535-4433-b88b-fdb76327014c"
      },
      "outputs": [
        {
          "name": "stdout",
          "output_type": "stream",
          "text": [
            "^C\n"
          ]
        }
      ],
      "source": [
        "! streamlit run app3.py"
      ]
    },
    {
      "cell_type": "code",
      "execution_count": null,
      "id": "2649059e",
      "metadata": {
        "id": "2649059e",
        "outputId": "38812955-3c90-4082-e850-69e64ef9c7b8"
      },
      "outputs": [
        {
          "name": "stdout",
          "output_type": "stream",
          "text": [
            "Writing app4.py\n"
          ]
        }
      ],
      "source": [
        "%%writefile app4.py\n",
        "import streamlit as st\n",
        "\n",
        "st.checkbox('I agree')\n",
        "st.button('run')\n",
        "st.radio('pick your gender',['Male', 'Female'])\n",
        "st.selectbox('pick your gender select box',['Male', 'Female'])\n",
        "st.multiselect('pick your favourite fruit',['apple' , 'bananna', 'tomoto'])\n",
        "st.select_slider('pick your satisfaction',['bad', 'good', 'excelent'])\n",
        "st.slider('pick number', 0 ,100)\n"
      ]
    },
    {
      "cell_type": "code",
      "execution_count": null,
      "id": "62a874b6",
      "metadata": {
        "id": "62a874b6",
        "outputId": "1d7e287b-784e-47b8-aa1b-e268dd142c53"
      },
      "outputs": [
        {
          "name": "stdout",
          "output_type": "stream",
          "text": [
            "^C\n"
          ]
        }
      ],
      "source": [
        "! streamlit run app4.py"
      ]
    },
    {
      "cell_type": "code",
      "execution_count": null,
      "id": "64d5df50",
      "metadata": {
        "id": "64d5df50",
        "outputId": "e0dfd58b-cded-4c8b-c339-a47fc3ba8f68"
      },
      "outputs": [
        {
          "name": "stdout",
          "output_type": "stream",
          "text": [
            "Overwriting app5.py\n"
          ]
        }
      ],
      "source": [
        "%%writefile app5.py\n",
        "import streamlit as st\n",
        "\n",
        "st.number_input('pick number',0,10)\n",
        "st.text_input('email adress')\n",
        "st.date_input('DOB')\n",
        "st.time_input('pick time')\n",
        "st.text_area('Description')\n",
        "st.file_uploader('pick your file')\n",
        "st.color_picker('pick your color')"
      ]
    },
    {
      "cell_type": "code",
      "execution_count": null,
      "id": "fbd0fbc0",
      "metadata": {
        "id": "fbd0fbc0",
        "outputId": "80d2a5ca-a8e0-4ee4-e6f8-394903b5cd31"
      },
      "outputs": [
        {
          "name": "stdout",
          "output_type": "stream",
          "text": [
            "^C\n"
          ]
        }
      ],
      "source": [
        "! streamlit run app5.py"
      ]
    },
    {
      "cell_type": "code",
      "execution_count": null,
      "id": "42ceb29b",
      "metadata": {
        "id": "42ceb29b",
        "outputId": "12a1317a-f2fa-4e04-8e97-a28b68f84bdb"
      },
      "outputs": [
        {
          "name": "stdout",
          "output_type": "stream",
          "text": [
            "Writing app6.py\n"
          ]
        }
      ],
      "source": [
        "%%writefile app6.py\n",
        "import streamlit as st\n",
        "import time\n",
        "\n",
        "st.progress(10)\n",
        "with st.spinner('wait for it ........'):\n",
        "    time.sleep(10)\n",
        "    st.balloons()\n"
      ]
    },
    {
      "cell_type": "code",
      "execution_count": null,
      "id": "8b78442b",
      "metadata": {
        "id": "8b78442b",
        "outputId": "93f9747a-f9e8-408a-aa2a-41f06e4d98a9"
      },
      "outputs": [
        {
          "name": "stdout",
          "output_type": "stream",
          "text": [
            "^C\n"
          ]
        }
      ],
      "source": [
        "! streamlit run app6.py"
      ]
    },
    {
      "cell_type": "code",
      "execution_count": null,
      "id": "ad2ed410",
      "metadata": {
        "id": "ad2ed410",
        "outputId": "e59d826c-abe7-4bf3-d11a-fe23411ba652"
      },
      "outputs": [
        {
          "name": "stdout",
          "output_type": "stream",
          "text": [
            "Writing app7.py\n"
          ]
        }
      ],
      "source": [
        "%%writefile app7.py\n",
        "import streamlit as st\n",
        "\n",
        "st.success('you did it')\n",
        "st.error('error')\n",
        "st.warning('warning')\n",
        "st.info('this is info')\n",
        "st.exception(RuntimeError('run time error exception'))"
      ]
    },
    {
      "cell_type": "code",
      "execution_count": null,
      "id": "9be491d8",
      "metadata": {
        "id": "9be491d8",
        "outputId": "7f411efc-b2bb-4dc4-cedc-f680dc2de9e1"
      },
      "outputs": [
        {
          "name": "stdout",
          "output_type": "stream",
          "text": [
            "^C\n"
          ]
        }
      ],
      "source": [
        "! streamlit run app7.py"
      ]
    },
    {
      "cell_type": "code",
      "execution_count": null,
      "id": "133c221f",
      "metadata": {
        "id": "133c221f",
        "outputId": "be33cc9b-c0c1-4601-cd5a-e07af3d2aa35"
      },
      "outputs": [
        {
          "name": "stdout",
          "output_type": "stream",
          "text": [
            "Overwriting app8.py\n"
          ]
        }
      ],
      "source": [
        "%%writefile app8.py\n",
        "import streamlit as st\n",
        "\n",
        "st.sidebar.title('this is sidebar title')\n",
        "st.sidebar.header('head')\n",
        "st.sidebar.checkbox('i agree')\n",
        "st.sidebar.button('click')\n",
        "st.sidebar.radio('pick your gender', ['male', 'female'])\n",
        "\n",
        "if st.sidebar.button('click2'):\n",
        "    st.write('hello world')"
      ]
    },
    {
      "cell_type": "code",
      "execution_count": null,
      "id": "77380267",
      "metadata": {
        "id": "77380267",
        "outputId": "5087debe-2024-449d-e680-4218e25ba195"
      },
      "outputs": [
        {
          "name": "stdout",
          "output_type": "stream",
          "text": [
            "^C\n"
          ]
        }
      ],
      "source": [
        "! streamlit run app8.py"
      ]
    },
    {
      "cell_type": "code",
      "execution_count": null,
      "id": "1abf8417",
      "metadata": {
        "id": "1abf8417",
        "outputId": "7e84bfb8-5418-4090-c352-4e1e03c01836"
      },
      "outputs": [
        {
          "name": "stdout",
          "output_type": "stream",
          "text": [
            "Writing app9.py\n"
          ]
        }
      ],
      "source": [
        "%%writefile app9.py\n",
        "import streamlit as st\n",
        "import numpy as np\n",
        "import matplotlib.pyplot as plt\n",
        "\n",
        "rand = np.random.normal(1,2,size=100)\n",
        "fig, ax = plt.subplots()\n",
        "ax.hist(rand,bins = 15)\n",
        "st.markdown(\"<h1 style = 'text-align : center ; color : red ;'> matplotlib graph </h1>\",unsafe_allow_html = True)\n",
        "\n",
        "st.pyplot(fig)\n"
      ]
    },
    {
      "cell_type": "code",
      "execution_count": null,
      "id": "f9348d35",
      "metadata": {
        "id": "f9348d35",
        "outputId": "1587a002-9a1e-4ac3-afe5-bcd73c533e2f"
      },
      "outputs": [
        {
          "name": "stdout",
          "output_type": "stream",
          "text": [
            "^C\n"
          ]
        }
      ],
      "source": [
        "! streamlit run app9.py"
      ]
    },
    {
      "cell_type": "code",
      "execution_count": null,
      "id": "21cb3ea9",
      "metadata": {
        "id": "21cb3ea9",
        "outputId": "0857d11a-d023-4c3b-c6b0-003de80f33da"
      },
      "outputs": [
        {
          "name": "stdout",
          "output_type": "stream",
          "text": [
            "Writing app10.py\n"
          ]
        }
      ],
      "source": [
        "%%writefile app10.py\n",
        "import streamlit as st\n",
        "import numpy as np\n",
        "import pandas as pd\n",
        "import plotly.express as px\n",
        "\n",
        "rand = np.random.normal(1,2,size=100)\n",
        "fig = px.histogram(rand,nbins=15)\n",
        "st.write('plotly histogram')\n",
        "st.plotly_chart(fig)\n",
        "\n",
        "df = px.data.tips()\n",
        "st.write('bar chart')\n",
        "st.plotly_chart(px.bar(df , x= 'day', y = 'total_bill', color = 'sex',barmode='group'))\n",
        "\n"
      ]
    },
    {
      "cell_type": "code",
      "execution_count": null,
      "id": "a16ac934",
      "metadata": {
        "id": "a16ac934",
        "outputId": "b80d6448-7527-4bcd-cbde-4d18c19af6b2"
      },
      "outputs": [
        {
          "name": "stdout",
          "output_type": "stream",
          "text": [
            "^C\n"
          ]
        }
      ],
      "source": [
        "! streamlit run app10.py"
      ]
    },
    {
      "cell_type": "code",
      "execution_count": null,
      "id": "29ef7b26",
      "metadata": {
        "id": "29ef7b26",
        "outputId": "a00cde9d-7fd2-4399-b1bf-ba97d3a25947"
      },
      "outputs": [
        {
          "name": "stdout",
          "output_type": "stream",
          "text": [
            "Overwriting app11.py\n"
          ]
        }
      ],
      "source": [
        "%%writefile app11.py\n",
        "import streamlit as st\n",
        "\n",
        "def main_page():\n",
        "    st.markdown('main page')\n",
        "    st.sidebar.markdown('sidebar main page')\n",
        "    st.button('main page')\n",
        "def page2():\n",
        "    st.markdown(' page1')\n",
        "    st.sidebar.markdown('sidebar page1')\n",
        "    st.button('page1')\n",
        "\n",
        "def page3():\n",
        "    st.markdown(' page2')\n",
        "    st.sidebar.markdown('sidebar page2')\n",
        "    st.button('page2')\n",
        "\n",
        "pages = { 'الصفحة الاولى':main_page,\n",
        "          'الصفحة التانية':page2,\n",
        "          'الصفحة التالتة': page3\n",
        "}\n",
        "\n",
        "select_page = st.sidebar.selectbox('select ur page',pages.keys())\n",
        "pages[select_page]()"
      ]
    },
    {
      "cell_type": "code",
      "execution_count": null,
      "id": "ca1dd200",
      "metadata": {
        "id": "ca1dd200",
        "outputId": "f45c1b4c-e150-44cc-c483-9c8ef9702566"
      },
      "outputs": [
        {
          "name": "stdout",
          "output_type": "stream",
          "text": [
            "^C\n"
          ]
        }
      ],
      "source": [
        "! streamlit run app11.py"
      ]
    },
    {
      "cell_type": "code",
      "execution_count": null,
      "id": "3e203147",
      "metadata": {
        "id": "3e203147",
        "outputId": "2099144b-f535-486b-df7c-339c73807e42"
      },
      "outputs": [
        {
          "data": {
            "text/html": [
              "<div>\n",
              "<style scoped>\n",
              "    .dataframe tbody tr th:only-of-type {\n",
              "        vertical-align: middle;\n",
              "    }\n",
              "\n",
              "    .dataframe tbody tr th {\n",
              "        vertical-align: top;\n",
              "    }\n",
              "\n",
              "    .dataframe thead th {\n",
              "        text-align: right;\n",
              "    }\n",
              "</style>\n",
              "<table border=\"1\" class=\"dataframe\">\n",
              "  <thead>\n",
              "    <tr style=\"text-align: right;\">\n",
              "      <th></th>\n",
              "      <th>total_bill</th>\n",
              "      <th>tip</th>\n",
              "      <th>sex</th>\n",
              "      <th>smoker</th>\n",
              "      <th>day</th>\n",
              "      <th>time</th>\n",
              "      <th>size</th>\n",
              "    </tr>\n",
              "  </thead>\n",
              "  <tbody>\n",
              "    <tr>\n",
              "      <th>0</th>\n",
              "      <td>16.99</td>\n",
              "      <td>1.01</td>\n",
              "      <td>Female</td>\n",
              "      <td>No</td>\n",
              "      <td>Sun</td>\n",
              "      <td>Dinner</td>\n",
              "      <td>2</td>\n",
              "    </tr>\n",
              "    <tr>\n",
              "      <th>1</th>\n",
              "      <td>10.34</td>\n",
              "      <td>1.66</td>\n",
              "      <td>Male</td>\n",
              "      <td>No</td>\n",
              "      <td>Sun</td>\n",
              "      <td>Dinner</td>\n",
              "      <td>3</td>\n",
              "    </tr>\n",
              "    <tr>\n",
              "      <th>2</th>\n",
              "      <td>21.01</td>\n",
              "      <td>3.50</td>\n",
              "      <td>Male</td>\n",
              "      <td>No</td>\n",
              "      <td>Sun</td>\n",
              "      <td>Dinner</td>\n",
              "      <td>3</td>\n",
              "    </tr>\n",
              "    <tr>\n",
              "      <th>3</th>\n",
              "      <td>23.68</td>\n",
              "      <td>3.31</td>\n",
              "      <td>Male</td>\n",
              "      <td>No</td>\n",
              "      <td>Sun</td>\n",
              "      <td>Dinner</td>\n",
              "      <td>2</td>\n",
              "    </tr>\n",
              "    <tr>\n",
              "      <th>4</th>\n",
              "      <td>24.59</td>\n",
              "      <td>3.61</td>\n",
              "      <td>Female</td>\n",
              "      <td>No</td>\n",
              "      <td>Sun</td>\n",
              "      <td>Dinner</td>\n",
              "      <td>4</td>\n",
              "    </tr>\n",
              "    <tr>\n",
              "      <th>...</th>\n",
              "      <td>...</td>\n",
              "      <td>...</td>\n",
              "      <td>...</td>\n",
              "      <td>...</td>\n",
              "      <td>...</td>\n",
              "      <td>...</td>\n",
              "      <td>...</td>\n",
              "    </tr>\n",
              "    <tr>\n",
              "      <th>239</th>\n",
              "      <td>29.03</td>\n",
              "      <td>5.92</td>\n",
              "      <td>Male</td>\n",
              "      <td>No</td>\n",
              "      <td>Sat</td>\n",
              "      <td>Dinner</td>\n",
              "      <td>3</td>\n",
              "    </tr>\n",
              "    <tr>\n",
              "      <th>240</th>\n",
              "      <td>27.18</td>\n",
              "      <td>2.00</td>\n",
              "      <td>Female</td>\n",
              "      <td>Yes</td>\n",
              "      <td>Sat</td>\n",
              "      <td>Dinner</td>\n",
              "      <td>2</td>\n",
              "    </tr>\n",
              "    <tr>\n",
              "      <th>241</th>\n",
              "      <td>22.67</td>\n",
              "      <td>2.00</td>\n",
              "      <td>Male</td>\n",
              "      <td>Yes</td>\n",
              "      <td>Sat</td>\n",
              "      <td>Dinner</td>\n",
              "      <td>2</td>\n",
              "    </tr>\n",
              "    <tr>\n",
              "      <th>242</th>\n",
              "      <td>17.82</td>\n",
              "      <td>1.75</td>\n",
              "      <td>Male</td>\n",
              "      <td>No</td>\n",
              "      <td>Sat</td>\n",
              "      <td>Dinner</td>\n",
              "      <td>2</td>\n",
              "    </tr>\n",
              "    <tr>\n",
              "      <th>243</th>\n",
              "      <td>18.78</td>\n",
              "      <td>3.00</td>\n",
              "      <td>Female</td>\n",
              "      <td>No</td>\n",
              "      <td>Thur</td>\n",
              "      <td>Dinner</td>\n",
              "      <td>2</td>\n",
              "    </tr>\n",
              "  </tbody>\n",
              "</table>\n",
              "<p>244 rows × 7 columns</p>\n",
              "</div>"
            ],
            "text/plain": [
              "     total_bill   tip     sex smoker   day    time  size\n",
              "0         16.99  1.01  Female     No   Sun  Dinner     2\n",
              "1         10.34  1.66    Male     No   Sun  Dinner     3\n",
              "2         21.01  3.50    Male     No   Sun  Dinner     3\n",
              "3         23.68  3.31    Male     No   Sun  Dinner     2\n",
              "4         24.59  3.61  Female     No   Sun  Dinner     4\n",
              "..          ...   ...     ...    ...   ...     ...   ...\n",
              "239       29.03  5.92    Male     No   Sat  Dinner     3\n",
              "240       27.18  2.00  Female    Yes   Sat  Dinner     2\n",
              "241       22.67  2.00    Male    Yes   Sat  Dinner     2\n",
              "242       17.82  1.75    Male     No   Sat  Dinner     2\n",
              "243       18.78  3.00  Female     No  Thur  Dinner     2\n",
              "\n",
              "[244 rows x 7 columns]"
            ]
          },
          "execution_count": 66,
          "metadata": {},
          "output_type": "execute_result"
        }
      ],
      "source": [
        "df"
      ]
    },
    {
      "cell_type": "code",
      "execution_count": null,
      "id": "7e653368",
      "metadata": {
        "id": "7e653368",
        "outputId": "ce333697-4619-4a06-d56d-723fb0f87908"
      },
      "outputs": [
        {
          "name": "stdout",
          "output_type": "stream",
          "text": [
            "Overwriting simpledashboard.py\n"
          ]
        }
      ],
      "source": [
        "%%writefile simpledashboard.py\n",
        "import streamlit as st\n",
        "import pandas as pd\n",
        "import plotly.express as px\n",
        "\n",
        "st.set_page_config(layout='wide',\n",
        "                  page_title = 'dashboard')\n",
        "\n",
        "df = px.data.tips()\n",
        "box = st.sidebar.checkbox('show data', False ,key =1)\n",
        "day = st.sidebar.selectbox('select day',df['day'].unique())\n",
        "time = st.sidebar.selectbox('select time',df['time'].unique())\n",
        "\n",
        "\n",
        "if box:\n",
        "    st.header('sample data')\n",
        "    st.dataframe(df.head(10))\n",
        "\n",
        "col1, col2 , col3 = st.columns(3)\n",
        "\n",
        "with col1:\n",
        "    new_df = df[df['day'] == day]\n",
        "    fig = px.histogram(new_df , x = 'total_bill', color ='sex' , title = f'total bill for {day} day'.title())\n",
        "    st.plotly_chart(fig,use_container_width=True)\n",
        "    fig = px.bar(new_df , x = 'time',y ='total_bill', color ='sex' , barmode ='group',title = f'time and total bill for {day} day'.title())\n",
        "    st.plotly_chart(fig,use_container_width=True)\n",
        "\n",
        "with col3:\n",
        "    new_df2 = df[df['time'] == time]\n",
        "    fig = px.scatter(new_df2, x='total_bill' , y ='tip', color='sex',title = f'correlation between T bill and tips {time} '.title())\n",
        "    st.plotly_chart(fig,use_container_width=True)\n",
        "    fig = px.bar(new_df2 , x = 'day',y ='total_bill', color ='sex' , barmode ='group',title = f'time and total bill for {day} day'.title())\n",
        "    st.plotly_chart(fig,use_container_width=True)\n",
        ""
      ]
    },
    {
      "cell_type": "code",
      "execution_count": null,
      "id": "a2f61dd8",
      "metadata": {
        "id": "a2f61dd8",
        "outputId": "05ae19ec-13e3-4c88-cf28-5529ae996d12"
      },
      "outputs": [
        {
          "name": "stdout",
          "output_type": "stream",
          "text": [
            "^C\n"
          ]
        }
      ],
      "source": [
        "! streamlit run simpledashboard.py"
      ]
    },
    {
      "cell_type": "code",
      "execution_count": null,
      "id": "0f85d50b",
      "metadata": {
        "id": "0f85d50b",
        "outputId": "44cd4b43-941c-447c-b57e-0f038db5e4b7"
      },
      "outputs": [
        {
          "name": "stdout",
          "output_type": "stream",
          "text": [
            "Overwriting simpledashboard2.py\n"
          ]
        }
      ],
      "source": [
        "%%writefile simpledashboard2.py\n",
        "import streamlit as st\n",
        "import pandas as pd\n",
        "import plotly.express as px\n",
        "\n",
        "st.set_page_config(layout='wide',\n",
        "                  page_title = 'dashboard')\n",
        "\n",
        "tab1, tab2 = st.tabs(['descriptive statistics', 'charts'])\n",
        "df = px.data.tips()\n",
        "num = df.describe()\n",
        "cat = df.describe(include = 'O')\n",
        "\n",
        "\n",
        "with tab1:\n",
        "    col1 , col2 , col3 = st.columns(3)\n",
        "    with col1:\n",
        "        st.subheader('numerical descriptive statistics')\n",
        "        st.dataframe(num)\n",
        "    with col3:\n",
        "        st.subheader('categorical descriptive statistics')\n",
        "        st.dataframe(cat)\n",
        "with tab2:\n",
        "    day = st.sidebar.selectbox('select day',df['day'].unique())\n",
        "    time = st.sidebar.selectbox('select time',df['time'].unique())\n",
        "    col1, col2 , col3 = st.columns(3)\n",
        "    with col1:\n",
        "        new_df = df[df['day'] == day]\n",
        "        fig = px.histogram(new_df , x = 'total_bill', color ='sex' , title = f'total bill for {day} day'.title())\n",
        "        st.plotly_chart(fig,use_container_width=True)\n",
        "        fig = px.bar(new_df , x = 'time',y ='total_bill', color ='sex' , barmode ='group',title = f'time and total bill for {day} day'.title())\n",
        "        st.plotly_chart(fig,use_container_width=True)\n",
        "\n",
        "    with col3:\n",
        "        new_df2 = df[df['time'] == time]\n",
        "        fig = px.scatter(new_df2, x='total_bill' , y ='tip', color='sex',title = f'correlation between T bill and tips {time} '.title())\n",
        "        st.plotly_chart(fig,use_container_width=True)\n",
        "        fig = px.bar(new_df2 , x = 'day',y ='total_bill', color ='sex' , barmode ='group',title = f'time and total bill for {day} day'.title())\n",
        "        st.plotly_chart(fig,use_container_width=True)"
      ]
    },
    {
      "cell_type": "code",
      "execution_count": null,
      "id": "6eb2a654",
      "metadata": {
        "id": "6eb2a654",
        "outputId": "f5367482-abe0-49ab-93d5-56346f6cef00"
      },
      "outputs": [
        {
          "name": "stdout",
          "output_type": "stream",
          "text": [
            "^C\n"
          ]
        }
      ],
      "source": [
        "! streamlit run simpledashboard2.py"
      ]
    },
    {
      "cell_type": "code",
      "execution_count": null,
      "id": "93a4f2ef",
      "metadata": {
        "id": "93a4f2ef"
      },
      "outputs": [],
      "source": []
    }
  ],
  "metadata": {
    "kernelspec": {
      "display_name": "Python 3 (ipykernel)",
      "language": "python",
      "name": "python3"
    },
    "language_info": {
      "codemirror_mode": {
        "name": "ipython",
        "version": 3
      },
      "file_extension": ".py",
      "mimetype": "text/x-python",
      "name": "python",
      "nbconvert_exporter": "python",
      "pygments_lexer": "ipython3",
      "version": "3.9.12"
    },
    "colab": {
      "provenance": []
    }
  },
  "nbformat": 4,
  "nbformat_minor": 5
}